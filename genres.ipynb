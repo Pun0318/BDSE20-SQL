{
 "cells": [
  {
   "cell_type": "code",
   "execution_count": 5,
   "id": "58756842",
   "metadata": {},
   "outputs": [],
   "source": [
    "import os,json\n",
    "import pymysql\n",
    "# 資料庫連線\n",
    "connection = pymysql.connect(\n",
    "    host = 'localhost',\n",
    "    user = 'root',\n",
    "    password = 'P@ssw0rd',\n",
    "    database = 'moviedb',\n",
    "    charset = 'utf8mb4',\n",
    "    cursorclass = pymysql.cursors.DictCursor\n",
    ")\n",
    "\n",
    "cursor = connection.cursor()\n",
    "\n",
    "def saveDB():\n",
    "    try:\n",
    "        # 開啟 .json 讀完即關閉\n",
    "        with open('testresult.json', 'r', encoding='utf-8') as fp:\n",
    "            strJSON = fp.read()\n",
    "            listResult = json.loads(strJSON)\n",
    "\n",
    "        # query 模板\n",
    "        sql = \"INSERT INTO `genres` \\\n",
    "                (`movie_id`, `genre`) \\\n",
    "                VALUES (%s, %s)\"\n",
    "\n",
    "        for itm in listResult:\n",
    "            list1=itm['genres']\n",
    "            for itm1 in list1:\n",
    "                cursor.execute(sql, (\n",
    "                        itm['id'],\n",
    "                        itm1['name']\n",
    "                        ))\n",
    "\n",
    "        connection.commit()\n",
    "\n",
    "    except Exception as e:\n",
    "        # 回滾\n",
    "        connection.rollback()\n",
    "        print(\"SQL 執行失敗\")\n",
    "        print(e)\n",
    "if __name__ == \"__main__\":\n",
    "    saveDB()"
   ]
  },
  {
   "cell_type": "code",
   "execution_count": null,
   "id": "64c9aacf",
   "metadata": {},
   "outputs": [],
   "source": []
  }
 ],
 "metadata": {
  "kernelspec": {
   "display_name": "Python 3",
   "language": "python",
   "name": "python3"
  },
  "language_info": {
   "codemirror_mode": {
    "name": "ipython",
    "version": 3
   },
   "file_extension": ".py",
   "mimetype": "text/x-python",
   "name": "python",
   "nbconvert_exporter": "python",
   "pygments_lexer": "ipython3",
   "version": "3.8.8"
  }
 },
 "nbformat": 4,
 "nbformat_minor": 5
}
